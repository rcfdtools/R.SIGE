{
 "cells": [
  {
   "cell_type": "code",
   "execution_count": 3,
   "metadata": {},
   "outputs": [
    {
     "ename": "RuntimeError",
     "evalue": "ERROR 000875: Output raster: C:\\arcpyExamples\\outputs\\temperature_kelvin.nc's workspace is an invalid output workspace.",
     "output_type": "error",
     "traceback": [
      "\u001b[0;31m---------------------------------------------------------------------------\u001b[0m\n\u001b[0;31mRuntimeError\u001b[0m                              Traceback (most recent call last)",
      "In  \u001b[0;34m[3]\u001b[0m:\nLine \u001b[0;34m17\u001b[0m:    out_unit_raster.save(\u001b[33m\"\u001b[39;49;00m\u001b[33mC:/arcpyExamples/outputs/temperature_kelvin.nc\u001b[39;49;00m\u001b[33m\"\u001b[39;49;00m)\u001b[37m\u001b[39;49;00m\n",
      "\u001b[0;31mRuntimeError\u001b[0m: ERROR 000875: Output raster: C:\\arcpyExamples\\outputs\\temperature_kelvin.nc's workspace is an invalid output workspace.\n\u001b[0;31m---------------------------------------------------------------------------\u001b[0m"
     ]
    }
   ],
   "source": [
    "# Import system modules\n",
    "import arcpy\n",
    "from arcpy.ia import *\n",
    "\n",
    "# Set the analysis environments\n",
    "arcpy.env.workspace = \"D:/R.SIGE/file/data/ERA5\"\n",
    "\n",
    "# Set the local variables\n",
    "inRaster_File = \"ERA5_land_monthly_climatological_var_010ddRioBogota.nc_t2m\"\n",
    "from_unit = 'Kelvin'\n",
    "to_unit = 'Celsius'\n",
    "\n",
    "# Execute UnitConversion function\n",
    "out_unit_raster = UnitConversion(inRaster_File, from_unit, to_unit)\n",
    "\n",
    "# Save the output\n",
    "out_unit_raster.save(\"D:/R.SIGE/file/data/ERA5/temperature_kelvin.nc\")"
   ]
  },
  {
   "cell_type": "code",
   "execution_count": null,
   "metadata": {},
   "outputs": [],
   "source": []
  }
 ],
 "metadata": {
  "kernelspec": {
   "display_name": "ArcGISPro",
   "language": "Python",
   "name": "python3"
  },
  "language_info": {
   "file_extension": ".py",
   "name": "python",
   "version": "3"
  }
 },
 "nbformat": 4,
 "nbformat_minor": 2
}
