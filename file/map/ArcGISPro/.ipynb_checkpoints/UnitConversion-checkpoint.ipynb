{
 "cells": [
  {
   "cell_type": "code",
   "execution_count": 7,
   "metadata": {},
   "outputs": [],
   "source": [
    "# Import system modules\n",
    "import arcpy\n",
    "from arcpy.ia import *\n",
    "\n",
    "# Set the analysis environments\n",
    "arcpy.env.workspace = \"D:/R.SIGE/file/data/ERA5\"\n",
    "\n",
    "# Set the local variables\n",
    "inRaster_File = \"ERA5_land_monthly_climatological_var_010ddRioBogota.nc_t2m\"\n",
    "from_unit = 'Kelvin'\n",
    "to_unit = 'Celsius'\n",
    "\n",
    "# Execute UnitConversion function\n",
    "out_unit_raster = UnitConversion(inRaster_File, from_unit, to_unit)\n",
    "\n",
    "# Save the output\n",
    "out_unit_raster.save(\"D:/R.SIGE/file/data/ERA5/ERA5_land_monthly_t2m_celsius.nc\")"
   ]
  },
  {
   "cell_type": "code",
   "execution_count": null,
   "metadata": {},
   "outputs": [],
   "source": []
  }
 ],
 "metadata": {
  "kernelspec": {
   "display_name": "ArcGISPro",
   "language": "Python",
   "name": "python3"
  },
  "language_info": {
   "file_extension": ".py",
   "name": "python",
   "version": "3"
  }
 },
 "nbformat": 4,
 "nbformat_minor": 2
}
